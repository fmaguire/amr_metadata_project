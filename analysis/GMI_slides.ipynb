{
 "cells": [
  {
   "cell_type": "code",
   "execution_count": null,
   "id": "2c924bc8",
   "metadata": {},
   "outputs": [],
   "source": [
    "import json\n",
    "from urllib.request import urlopen\n",
    "from pathlib import Path\n",
    "\n",
    "import pandas as pd\n",
    "import geopandas as gpd\n",
    "import numpy as np\n",
    "\n",
    "import seaborn as sns\n",
    "import matplotlib.pyplot as plt\n",
    "import plotly.express as px\n",
    "\n",
    "sns.set_style('whitegrid')\n",
    "sns.set_palette('colorblind')\n",
    "\n",
    "with urlopen('https://raw.githubusercontent.com/datasets/geo-countries/master/data/countries.geojson') as response:\n",
    "    countries = json.load(response)\n",
    "geo_loc_countries = set([countries['features'][x]['properties']['ADMIN'] for x in range(len(countries['features']))])"
   ]
  },
  {
   "cell_type": "markdown",
   "id": "65fc5dae",
   "metadata": {},
   "source": [
    "## GBD2019 AMR Map"
   ]
  },
  {
   "cell_type": "code",
   "execution_count": null,
   "id": "84026d7d",
   "metadata": {},
   "outputs": [],
   "source": [
    "burden_df = pd.concat([pd.read_csv(taxa_fp) for taxa_fp in Path('../data/ihme_microbe').glob(\"*.csv\")]).drop_duplicates()\n",
    "bacterial_burden_per_country = burden_df.groupby('Location')['Value'].sum()\n",
    "bacterial_burden_per_country = bacterial_burden_per_country\\\n",
    "                                .reset_index(name='Bacterial Burden (DALYs per 100k)')\\\n",
    "                                .rename(columns={'Location': 'Country'})\n",
    "        \n",
    "    \n",
    "bacterial_burden_per_country['Bacterial Burden (log DALYs per 100k)'] = np.log(bacterial_burden_per_country['Bacterial Burden (DALYs per 100k)'])\n",
    "ihme_to_geoloc_countries = {'Bahamas': 'The Bahamas',\n",
    "                            'Bolivia (Plurinational State of)': 'Bolivia',\n",
    "                            'Brunei Darussalam': 'Brunei',\n",
    "                            'Cabo Verde': 'Cape Verde',\n",
    "                            'Congo': 'Republic of Congo',\n",
    "                            'Czechia': 'Czech Republic',\n",
    "                            \"Côte d'Ivoire\": \"Ivory Coast\",\n",
    "                            \"Democratic People's Republic of Korea\": 'North Korea',\n",
    "                            \"Eswatini\": \"Swaziland\",\n",
    "                            'Guinea-Bissau': 'Guinea Bissau',\n",
    "                            'Iran (Islamic Republic of)': \"Iran\",\n",
    "                            \"Lao People's Democratic Republic\": \"Laos\",\n",
    "                            'Micronesia (Federated States of)': \"Federated States of Micronesia\",\n",
    "                            'North Macedonia': \"Macedonia\",\n",
    "                            'Republic of Korea': \"South Korea\",\n",
    "                            'Republic of Moldova': \"Moldova\",\n",
    "                            'Russian Federation': \"Russia\",\n",
    "                            'Serbia': 'Republic of Serbia',\n",
    "                            'Syrian Arab Republic': \"Syria\",\n",
    "                            'Taiwan (Province of China)': \"Taiwan\",\n",
    "                            'Timor-Leste': 'East Timor',\n",
    "                            'Tokelau': \"drop\",\n",
    "                            'Venezuela (Bolivarian Republic of)': \"Venezuela\",\n",
    "                            'Viet Nam': \"Vietnam\",\n",
    "                            'USA': 'United States of America'}\n",
    "\n",
    "bacterial_burden_per_country['Map Locations'] = bacterial_burden_per_country['Country']\\\n",
    "                                                    .apply(lambda x: ihme_to_geoloc_countries[x] if x in ihme_to_geoloc_countries else x)\n",
    "# dropping tokelau as we don't have map locations for it\n",
    "bacterial_burden_per_country = bacterial_burden_per_country[bacterial_burden_per_country['Map Locations'] != 'drop']\n"
   ]
  },
  {
   "cell_type": "code",
   "execution_count": null,
   "id": "47e4964b",
   "metadata": {},
   "outputs": [],
   "source": [
    "fig = px.choropleth(bacterial_burden_per_country, geojson=countries, featureidkey='properties.ADMIN',\n",
    "                    locations='Map Locations', color='Bacterial Burden (log DALYs per 100k)',\n",
    "                    color_continuous_scale=\"Viridis\",\n",
    "                    projection='eckert4')\n",
    "fig.show()"
   ]
  },
  {
   "cell_type": "markdown",
   "id": "64c22f99",
   "metadata": {},
   "source": [
    "## SRA Reads per Pathogen\n",
    "\n",
    "Pulled from BigQuery in June 2023"
   ]
  },
  {
   "cell_type": "code",
   "execution_count": null,
   "id": "bf4345cb",
   "metadata": {},
   "outputs": [],
   "source": [
    "sra_metadata = pd.read_csv('../data/sra_metadata/all_non_human_sra_metadata.csv.xz')\n",
    "sra_metadata['releasedate'] = pd.to_datetime(sra_metadata['releasedate'], yearfirst=True)\n",
    "\n",
    "def link_ihme_pathogens_to_sra_taxa(sra_taxa):\n",
    "    \"\"\"\n",
    "    Function to link IHME pathogens to actual SRA taxa\n",
    "    \"\"\"\n",
    "    spp = ['Aeromonas spp.', 'Campylobacter spp.', 'Chlamydia spp.', 'Citrobacter spp.', 'Enterobacter spp.',\n",
    "           'Legionella spp.', 'Morganella spp.', 'Mycoplasma spp.', 'Proteus spp.', 'Providencia spp.', 'Serratia spp.', \n",
    "           'Shigella spp.']\n",
    "\n",
    "    species = ['Acinetobacter baumannii', 'Clostridioides difficile', 'Enterococcus faecalis', 'Enterococcus faecium', \n",
    "               'Escherichia coli', 'Haemophilus influenzae', 'Klebsiella pneumoniae', 'Listeria monocytogenes', 'Mycobacterium tuberculosis',\n",
    "               'Neisseria gonorrhoeae', 'Neisseria meningitidis', 'Pseudomonas aeruginosa', \n",
    "               'Staphylococcus aureus', 'Streptococcus pneumoniae', 'Vibrio cholerae']\n",
    "    \n",
    "    for spp_taxa in spp:\n",
    "        if sra_taxa.startswith(spp_taxa.split()[0]):\n",
    "            return spp_taxa\n",
    "    \n",
    "    for spec_taxa in species:\n",
    "        if sra_taxa.startswith(spec_taxa):\n",
    "            return spec_taxa\n",
    "    \n",
    "    special = ['Non-typhoidal Salmonella', 'Other Klebsiella species', 'Other enterococci', \n",
    "               'Salmonella enterica serovar Paratyphi', 'Salmonella enterica serovar Typhi',\n",
    "              'Group A Streptococcus', 'Group B Streptococcus']\n",
    "    \n",
    "    if sra_taxa.startswith(\"Klebsiella\") and not sra_taxa.startswith(\"Klebsiella pneumoniae\"):\n",
    "        return 'Other Klebsiella species'\n",
    "    elif sra_taxa.startswith('Enterococcus') and not (sra_taxa.startswith(\"Enterococcous faecium\") or sra_taxa.startswith(\"Enterococcus faecalis\")):\n",
    "        return \"Other enterococci\"\n",
    "    elif sra_taxa.startswith('Salmonella enterica subsp. enterica serovar Typhi'):\n",
    "        return 'Salmonella enterica serovar Typhi'\n",
    "    elif sra_taxa.startswith('Salmonella enterica subsp. enterica serovar Paratyphi'):\n",
    "        return 'Salmonella enterica serovar Paratyphi'\n",
    "    elif sra_taxa.startswith('Salmonella'):\n",
    "        return 'Non-typhoidal Salmonella'\n",
    "    # note this will slightly undercount GAS and GBS as there is other Strep with A antigen and B antigens\n",
    "    elif sra_taxa.startswith('Streptococcus pyogenes'):\n",
    "        return 'Group A Streptococcus'\n",
    "    elif sra_taxa.startswith('Streptococcus agalactiae'):\n",
    "        return \"Group B Streptococcus\"\n",
    "    \n",
    "    return \"Non-IHME Taxa\"\n",
    "\n",
    "sra_metadata['IHME_taxa'] = sra_metadata['organism'].apply(link_ihme_pathogens_to_sra_taxa)\n",
    "sra_metadata = sra_metadata[sra_metadata['IHME_taxa'] != 'Non-IHME Taxa']\n",
    "\n",
    "sra_metadata = sra_metadata[['IHME_taxa', 'organism', 'geo_loc_name_country_calc', 'releasedate']]\n",
    "sra_metadata = sra_metadata[sra_metadata['geo_loc_name_country_calc'] != 'uncalculated']\n",
    "sra_metadata['Country'] = sra_metadata['geo_loc_name_country_calc'].apply(lambda x: ihme_to_geoloc_countries[x] if x in ihme_to_geoloc_countries else x)\n"
   ]
  },
  {
   "cell_type": "code",
   "execution_count": null,
   "id": "46e8021d",
   "metadata": {},
   "outputs": [],
   "source": [
    "ihme_taxa_sequenced_per_country = sra_metadata.groupby('Country')['IHME_taxa'].nunique()\n",
    "all_pathogens = burden_df['Pathogen'].unique()\n",
    "all_countries = bacterial_burden_per_country['Map Locations'].unique()\n",
    "\n",
    "def filter_metadata(metadata, countries):\n",
    "    pathogens_per_country = metadata.groupby('Country')['IHME_taxa'].nunique().reset_index()\n",
    "    null_countries = {'Country': [], 'IHME_taxa': []}\n",
    "    for country in countries:\n",
    "        if country not in pathogens_per_country['Country'].unique():\n",
    "            null_countries['Country'].append(country)\n",
    "            null_countries['IHME_taxa'].append(0)\n",
    "    pathogens_per_country = pathogens_per_country.append(pd.DataFrame(null_countries), ignore_index=True)\n",
    "    pathogens_per_country = pathogens_per_country.rename(columns={'IHME_taxa': 'Highest Burden Bacterial Taxa with Raw Data (SRA)'})\n",
    "    return pathogens_per_country\n",
    "\n",
    "\n",
    "pre_2018_pathogens_sequenced = filter_metadata(sra_metadata[sra_metadata['releasedate'].dt.date < pd.to_datetime('2018-01-01', yearfirst=True).date()],\n",
    "                                               all_countries)\n",
    "post_2018_pathogens_sequenced = filter_metadata(sra_metadata[sra_metadata['releasedate'].dt.date >= pd.to_datetime('2018-01-01', yearfirst=True).date()],\n",
    "                                                all_countries)"
   ]
  },
  {
   "cell_type": "code",
   "execution_count": null,
   "id": "516a3048",
   "metadata": {},
   "outputs": [],
   "source": [
    "fig = px.choropleth(pre_2018_pathogens_sequenced, geojson=countries, featureidkey='properties.ADMIN',\n",
    "                    locations='Country', color='Highest Burden Bacterial Taxa with Raw Data (SRA)',\n",
    "                    color_continuous_scale=\"Blackbody\",\n",
    "                    projection='eckert4')\n",
    "fig.show()"
   ]
  },
  {
   "cell_type": "code",
   "execution_count": null,
   "id": "1f74a876",
   "metadata": {},
   "outputs": [],
   "source": [
    "fig = px.choropleth(post_2018_pathogens_sequenced, geojson=countries, featureidkey='properties.ADMIN',\n",
    "                    locations='Country', color='Highest Burden Bacterial Taxa with Raw Data (SRA)',\n",
    "                    color_continuous_scale=\"Blackbody\",\n",
    "                    projection='eckert4')\n",
    "fig.show()"
   ]
  },
  {
   "cell_type": "code",
   "execution_count": null,
   "id": "90e76da3",
   "metadata": {},
   "outputs": [],
   "source": [
    "bacterial_burden_per_country"
   ]
  },
  {
   "cell_type": "code",
   "execution_count": null,
   "id": "04de9729",
   "metadata": {},
   "outputs": [],
   "source": [
    "burden_df['Map Locations'] = burden_df['Location'].apply(lambda x: ihme_to_geoloc_countries[x] if x in ihme_to_geoloc_countries else x)\n",
    "# dropping tokelau as we don't have map locations for it\n",
    "burden_df = burden_df[burden_df['Map Locations'] != 'drop']\n"
   ]
  },
  {
   "cell_type": "code",
   "execution_count": null,
   "id": "1752f24c",
   "metadata": {},
   "outputs": [],
   "source": [
    "unsampled_burden_df = {'Country': [], 'Unsampled Bacterial Burden (DALYs per 100k)': []}\n",
    "for country, sampled_taxa in sra_metadata.groupby('Country')['IHME_taxa'].unique().items():\n",
    "    missing_pathogens = set(all_pathogens) - set(sampled_taxa)\n",
    "    unsampled_burden = burden_df[(burden_df['Map Locations'] == country) & (burden_df['Pathogen'].isin(missing_pathogens))]\n",
    "    unsampled_burden = unsampled_burden['Value'].sum()\n",
    "    unsampled_burden_df['Country'].append(country)\n",
    "    unsampled_burden_df['Unsampled Bacterial Burden (DALYs per 100k)'].append(unsampled_burden)\n",
    "\n",
    "unsampled_burden_df = pd.DataFrame(unsampled_burden_df)    "
   ]
  },
  {
   "cell_type": "code",
   "execution_count": null,
   "id": "0cf009f6",
   "metadata": {},
   "outputs": [],
   "source": [
    "unsampled_burden_df.sort_values('Unsampled Bacterial Burden (DALYs per 100k)', ascending=False)"
   ]
  },
  {
   "cell_type": "code",
   "execution_count": null,
   "id": "39414ee6",
   "metadata": {},
   "outputs": [],
   "source": [
    "unsampled_burden_df[]"
   ]
  },
  {
   "cell_type": "code",
   "execution_count": null,
   "id": "b1bfe54a",
   "metadata": {},
   "outputs": [],
   "source": [
    "set(unsampled_burden_df['Country'].unique()) - set(world_bank_groups['Economy'].unique())"
   ]
  },
  {
   "cell_type": "code",
   "execution_count": null,
   "id": "e534d4f8",
   "metadata": {},
   "outputs": [],
   "source": [
    "world_bank_groups = pd.read_excel('../data/world_bank_groups_2023.xlsx')\n",
    "world_bank_groups['Economy'] = world_bank_groups['Economy'].apply(lambda x: ihme_to_geoloc_countries[x] if x in ihme_to_geoloc_countries else x)\n",
    "\n",
    "world_bank_to_geoloc_countries = {'Congo, Dem. Rep.': 'Democratic Republic of the Congo',\n",
    "                                  'Egypt, Arab Rep.': 'Egypt',\n",
    "                                 'Gambia, The': 'Gambia',\n",
    "                                  'Hong Kong SAR, China': 'Hong Kong',\n",
    "                                  'Iran, Islamic Rep.': 'Iran',\n",
    "                                  'Kyrgyz Republic': 'Kyrgyzstan',\n",
    "                                  'Lao PDR': 'Laos',\n",
    "                                  \"Korea, Dem. People's Rep.\": 'North Korea',\n",
    "                                  'Slovak Republic': 'Slovakia',\n",
    "                                  'Korea, Rep.': 'South Korea',\n",
    "                                  'Taiwan, China': 'Taiwan',\n",
    "                                  'Bahamas, The': 'The Bahamas',\n",
    "                                  'Türkiye': 'Turkey',\n",
    "                                  'United States': 'United States of America',\n",
    "                                  'Yemen, Rep.': 'Yemen'}\n",
    "world_bank_groups['Economy'] = world_bank_groups['Economy'].apply(lambda x: world_bank_to_geoloc_countries[x] if x in world_bank_to_geoloc_countries else x)\n",
    "\n",
    "#set(unsampled_burden_df['Country'].unique()) - set(world_bank_groups['Economy'].unique())\n",
    "world_bank_groups = world_bank_groups.set_index('Economy')['Income group']\n",
    "\n",
    "\n"
   ]
  },
  {
   "cell_type": "code",
   "execution_count": null,
   "id": "82f33de0",
   "metadata": {},
   "outputs": [],
   "source": [
    "unsampled_burden_df['World Bank Income Group'] = unsampled_burden_df['Country'].apply(lambda x: world_bank_groups[x] if x in world_bank_groups else 'unknown')\n",
    "unsampled_burden_df = unsampled_burden_df[unsampled_burden_df['World Bank Income Group'] != 'unknown']"
   ]
  },
  {
   "cell_type": "code",
   "execution_count": null,
   "id": "bc17e7e3",
   "metadata": {},
   "outputs": [],
   "source": [
    "sns.stripplot(data = unsampled_burden_df, order=['High income', 'Upper middle income', 'Lower middle income', 'Low income'], x='Unsampled Bacterial Burden (DALYs per 100k)', y='World Bank Income Group')\n",
    "plt.savefig('unsampled_bacterial_burden.png', dpi=300, bbox_inches='tight')"
   ]
  },
  {
   "cell_type": "code",
   "execution_count": null,
   "id": "ba3acd7c",
   "metadata": {},
   "outputs": [],
   "source": [
    "all_countries = bacterial_burden_per_country['Map Locations'].unique()\n",
    "represented_pathogens = genomes_per_country_sra.groupby('Map Locations')['IHME_taxa'].nunique()"
   ]
  },
  {
   "cell_type": "code",
   "execution_count": null,
   "id": "cd08d881",
   "metadata": {},
   "outputs": [],
   "source": [
    "represented_sequencing = {'Country': [], 'Sequenced Pathogens (SRA)': []}\n",
    "for country in all_countries:\n",
    "    if country in represented_pathogens:\n",
    "        represented_sequencing['Country'].append(country)\n",
    "        represented_sequencing['Sequenced Pathogens (SRA)'].append(represented_pathogens.loc[country])\n",
    "    else:\n",
    "        represented_sequencing['Country'].append(country)\n",
    "        represented_sequencing['Sequenced Pathogens (SRA)'].append(0)\n",
    "\n",
    "represented_sequencing = pd.DataFrame(represented_sequencing)"
   ]
  },
  {
   "cell_type": "code",
   "execution_count": null,
   "id": "0fbc4be5",
   "metadata": {},
   "outputs": [],
   "source": [
    "fig = px.choropleth(represented_sequencing, geojson=countries, featureidkey='properties.ADMIN',\n",
    "                    locations='Country', color='Sequenced Pathogens (SRA)',\n",
    "                    color_continuous_scale=\"Blackbody\",\n",
    "                    projection='eckert4')\n",
    "fig.show()"
   ]
  },
  {
   "cell_type": "markdown",
   "id": "0060d8d7",
   "metadata": {},
   "source": [
    "# Top 5 AMR Burden pathogens per country represented"
   ]
  },
  {
   "cell_type": "code",
   "execution_count": null,
   "id": "c5b1922e",
   "metadata": {},
   "outputs": [],
   "source": [
    "top5_pathogens_per_country_by_burden = burden_df.set_index('Pathogen').groupby('Location')['Value'].nlargest(5).reset_index()\n",
    "top5_pathogens_per_country_by_burden['Map Locations'] = top5_pathogens_per_country_by_burden['Location']\\\n",
    "                                                    .apply(lambda x: ihme_to_geoloc_countries[x] if x in ihme_to_geoloc_countries else x)\n",
    "top5_pathogens_per_country_by_burden = top5_pathogens_per_country_by_burden.groupby('Map Locations')['Pathogen'].unique()"
   ]
  },
  {
   "cell_type": "code",
   "execution_count": null,
   "id": "dec747c9",
   "metadata": {},
   "outputs": [],
   "source": [
    "genomes_per_country_sra_sets = genomes_per_country_sra.groupby('Map Locations')['IHME_taxa'].unique()"
   ]
  },
  {
   "cell_type": "code",
   "execution_count": null,
   "id": "5199b1fa",
   "metadata": {},
   "outputs": [],
   "source": [
    "top5_sequencing = {'Country': [], 'Top 5 Pathogens (SRA)': []}\n",
    "\n",
    "for country, burden_set in top5_pathogens_per_country_by_burden.items():\n",
    "    burden_set = set(burden_set)\n",
    "    \n",
    "    if country in genomes_per_country_sra_sets.index:\n",
    "        sequenced_set = set(genomes_per_country_sra_sets.loc[country])\n",
    "        top_burden_sequenced = len(burden_set.intersection(sequenced_set))\n",
    "    else:\n",
    "        print(country)\n",
    "        top_burden_sequenced = 0\n",
    "    \n",
    "    top5_sequencing['Country'].append(country)\n",
    "    top5_sequencing['Top 5 Pathogens (SRA)'].append(top_burden_sequenced)\n",
    "top5_sequencing = pd.DataFrame(top5_sequencing)"
   ]
  },
  {
   "cell_type": "code",
   "execution_count": null,
   "id": "c1dc40b4",
   "metadata": {},
   "outputs": [],
   "source": [
    "fig = px.choropleth(top5_sequencing, geojson=countries, featureidkey='properties.ADMIN',\n",
    "                    locations='Country', color='Top 5 Pathogens (SRA)',\n",
    "                    color_continuous_scale=\"Blackbody\",\n",
    "                    projection='eckert4')\n",
    "fig.show()"
   ]
  },
  {
   "cell_type": "code",
   "execution_count": null,
   "id": "7ff21071",
   "metadata": {},
   "outputs": [],
   "source": [
    "top5_sequencing"
   ]
  },
  {
   "cell_type": "code",
   "execution_count": null,
   "id": "5fb58c74",
   "metadata": {},
   "outputs": [],
   "source": []
  }
 ],
 "metadata": {
  "kernelspec": {
   "display_name": "Python 3 (ipykernel)",
   "language": "python",
   "name": "python3"
  },
  "language_info": {
   "codemirror_mode": {
    "name": "ipython",
    "version": 3
   },
   "file_extension": ".py",
   "mimetype": "text/x-python",
   "name": "python",
   "nbconvert_exporter": "python",
   "pygments_lexer": "ipython3",
   "version": "3.10.5"
  }
 },
 "nbformat": 4,
 "nbformat_minor": 5
}
