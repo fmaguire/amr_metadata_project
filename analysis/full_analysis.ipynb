{
 "cells": [
  {
   "cell_type": "code",
   "execution_count": null,
   "id": "41a7b653",
   "metadata": {},
   "outputs": [],
   "source": [
    "import json\n",
    "from urllib.request import urlopen\n",
    "from pathlib import Path\n",
    "\n",
    "import pandas as pd\n",
    "import geopandas as gpd\n",
    "import numpy as np\n",
    "\n",
    "import seaborn as sns\n",
    "import matplotlib.pyplot as plt\n",
    "import plotly.express as px\n",
    "\n",
    "sns.set_style('whitegrid')\n",
    "sns.set_palette('colorblind')\n",
    "\n",
    "with urlopen('https://raw.githubusercontent.com/datasets/geo-countries/master/data/countries.geojson') as response:\n",
    "    countries = json.load(response)\n",
    "geo_loc_countries = set([countries['features'][x]['properties']['ADMIN'] for x in range(len(countries['features']))])"
   ]
  },
  {
   "cell_type": "markdown",
   "id": "5878e99b",
   "metadata": {},
   "source": [
    "# National Bacterial AMR burden relative to sequencing\n",
    "\n",
    "## Collated Bacterial AMR burden"
   ]
  },
  {
   "cell_type": "code",
   "execution_count": null,
   "id": "59491b6d",
   "metadata": {},
   "outputs": [],
   "source": [
    "burden_df = pd.concat([pd.read_csv(taxa_fp) for taxa_fp in Path('../data/ihme_microbe').glob(\"*.csv\")]).drop_duplicates()\n",
    "bacterial_burden_per_country = burden_df.groupby('Location')['Value'].sum()\n",
    "bacterial_burden_per_country = bacterial_burden_per_country\\\n",
    "                                .reset_index(name='Bacterial AMR DALYs per 100k')\\\n",
    "                                .rename(columns={'Location': 'Country'})\n",
    "        \n",
    "    \n",
    "bacterial_burden_per_country['Bacterial AMR DALYs per 100k (log)'] = np.log(bacterial_burden_per_country['Bacterial AMR DALYs per 100k'])\n",
    "ihme_to_geoloc_countries = {'Bahamas': 'The Bahamas',\n",
    "                            'Bolivia (Plurinational State of)': 'Bolivia',\n",
    "                            'Brunei Darussalam': 'Brunei',\n",
    "                            'Cabo Verde': 'Cape Verde',\n",
    "                            'Congo': 'Republic of Congo',\n",
    "                            'Czechia': 'Czech Republic',\n",
    "                            \"Côte d'Ivoire\": \"Ivory Coast\",\n",
    "                            \"Democratic People's Republic of Korea\": 'North Korea',\n",
    "                            \"Eswatini\": \"Swaziland\",\n",
    "                            'Guinea-Bissau': 'Guinea Bissau',\n",
    "                            'Iran (Islamic Republic of)': \"Iran\",\n",
    "                            \"Lao People's Democratic Republic\": \"Laos\",\n",
    "                            'Micronesia (Federated States of)': \"Federated States of Micronesia\",\n",
    "                            'North Macedonia': \"Macedonia\",\n",
    "                            'Republic of Korea': \"South Korea\",\n",
    "                            'Republic of Moldova': \"Moldova\",\n",
    "                            'Russian Federation': \"Russia\",\n",
    "                            'Serbia': 'Republic of Serbia',\n",
    "                            'Syrian Arab Republic': \"Syria\",\n",
    "                            'Taiwan (Province of China)': \"Taiwan\",\n",
    "                            'Timor-Leste': 'East Timor',\n",
    "                            'Tokelau': \"drop\",\n",
    "                            'Venezuela (Bolivarian Republic of)': \"Venezuela\",\n",
    "                            'Viet Nam': \"Vietnam\"}\n",
    "\n",
    "bacterial_burden_per_country['Map Locations'] = bacterial_burden_per_country['Country']\\\n",
    "                                                    .apply(lambda x: ihme_to_geoloc_countries[x] if x in ihme_to_geoloc_countries else x)\n",
    "# dropping tokelau as we don't have map locations for it\n",
    "bacterial_burden_per_country = bacterial_burden_per_country[bacterial_burden_per_country['Map Locations'] != 'drop']"
   ]
  },
  {
   "cell_type": "code",
   "execution_count": null,
   "id": "a60fa3eb",
   "metadata": {},
   "outputs": [],
   "source": [
    "fig = px.choropleth(bacterial_burden_per_country, geojson=countries, featureidkey='properties.ADMIN',\n",
    "                    locations='Map Locations', color='Bacterial AMR DALYs per 100k (log)',\n",
    "                    color_continuous_scale=\"Viridis\",\n",
    "                    projection='eckert4')\n",
    "fig.show()"
   ]
  },
  {
   "cell_type": "markdown",
   "id": "3b614507",
   "metadata": {},
   "source": [
    "## SRA Metadata"
   ]
  },
  {
   "cell_type": "code",
   "execution_count": null,
   "id": "2c336827",
   "metadata": {},
   "outputs": [],
   "source": [
    "sra_metadata = pd.read_csv('../data/sra_metadata/all_non_human_sra_metadata.csv.xz', low_memory=False)\n",
    "\n",
    "def link_ihme_pathogens_to_sra_taxa(sra_taxa):\n",
    "    \"\"\"\n",
    "    Function to link IHME pathogens to actual SRA taxa\n",
    "    \"\"\"\n",
    "    spp = ['Aeromonas spp.', 'Campylobacter spp.', 'Chlamydia spp.', 'Citrobacter spp.', 'Enterobacter spp.',\n",
    "           'Legionella spp.', 'Morganella spp.', 'Mycoplasma spp.', 'Proteus spp.', 'Providencia spp.', 'Serratia spp.', \n",
    "           'Shigella spp.']\n",
    "\n",
    "    species = ['Acinetobacter baumannii', 'Clostridioides difficile', 'Enterococcus faecalis', 'Enterococcus faecium', \n",
    "               'Escherichia coli', 'Haemophilus influenzae', 'Klebsiella pneumoniae', 'Listeria monocytogenes', 'Mycobacterium tuberculosis',\n",
    "               'Neisseria gonorrhoeae', 'Neisseria meningitidis', 'Pseudomonas aeruginosa', \n",
    "               'Staphylococcus aureus', 'Streptococcus pneumoniae', 'Vibrio cholerae']\n",
    "    \n",
    "    for spp_taxa in spp:\n",
    "        if sra_taxa.startswith(spp_taxa.split()[0]):\n",
    "            return spp_taxa\n",
    "    \n",
    "    for spec_taxa in species:\n",
    "        if sra_taxa.startswith(spec_taxa):\n",
    "            return spec_taxa\n",
    "    \n",
    "    special = ['Non-typhoidal Salmonella', 'Other Klebsiella species', 'Other enterococci', \n",
    "               'Salmonella enterica serovar Paratyphi', 'Salmonella enterica serovar Typhi',\n",
    "              'Group A Streptococcus', 'Group B Streptococcus']\n",
    "    \n",
    "    if sra_taxa.startswith(\"Klebsiella\") and not sra_taxa.startswith(\"Klebsiella pneumoniae\"):\n",
    "        return 'Other Klebsiella species'\n",
    "    elif sra_taxa.startswith('Enterococcus') and not (sra_taxa.startswith(\"Enterococcous faecium\") or sra_taxa.startswith(\"Enterococcus faecalis\")):\n",
    "        return \"Other enterococci\"\n",
    "    elif sra_taxa.startswith('Salmonella enterica subsp. enterica serovar Typhi'):\n",
    "        return 'Salmonella enterica serovar Typhi'\n",
    "    elif sra_taxa.startswith('Salmonella enterica subsp. enterica serovar Paratyphi'):\n",
    "        return 'Salmonella enterica serovar Paratyphi'\n",
    "    elif sra_taxa.startswith('Salmonella'):\n",
    "        return 'Non-typhoidal Salmonella'\n",
    "    # note this will slightly undercount GAS and GBS as there is other Strep with A antigen and B antigens\n",
    "    elif sra_taxa.startswith('Streptococcus pyogenes'):\n",
    "        return 'Group A Streptococcus'\n",
    "    elif sra_taxa.startswith('Streptococcus agalactiae'):\n",
    "        return \"Group B Streptococcus\"\n",
    "    \n",
    "    return \"Non-IHME Taxa\"\n",
    "\n",
    "sra_metadata['IHME_taxa'] = sra_metadata['organism'].apply(link_ihme_pathogens_to_sra_taxa)\n",
    "sra_metadata = sra_metadata[sra_metadata['IHME_taxa'] != 'Non-IHME Taxa']\n",
    "\n",
    "sra_metadata.loc[sra_metadata['geo_loc_name_country_calc'].isna(), 'Sampling Country Metadata'] = \"Not Provided\"\n",
    "sra_metadata.loc[sra_metadata['geo_loc_name_country_calc'] == 'uncalculated', 'Sampling Country Metadata'] = \"Not Provided\"\n",
    "sra_metadata.loc[sra_metadata['Sampling Country Metadata'].isna(), 'Sampling Country Metadata'] = \"Provided\" "
   ]
  },
  {
   "cell_type": "code",
   "execution_count": null,
   "id": "a40d1dea",
   "metadata": {},
   "outputs": [],
   "source": [
    "sra_wgs_country_metadata_tally = sra_metadata.groupby('IHME_taxa')['Sampling Country Metadata'].value_counts() / sra_metadata.groupby('IHME_taxa').size() * 100\n",
    "sra_wgs_country_metadata_tally = sra_wgs_country_metadata_tally.reset_index(name=\"% of SRA WGS Records\")\n",
    "sra_wgs_country_metadata_tally = sra_wgs_country_metadata_tally.query(\"`Sampling Country Metadata` == 'Not Provided'\").sort_values('% of SRA WGS Records', ascending=False)\n",
    "sra_wgs_country_metadata_tally = sra_wgs_country_metadata_tally.rename(columns={'% of SRA WGS Records': '% of SRA WGS Records\\nLacking Country Metadata',\n",
    "                                                                               'IHME_taxa': \"Taxa\"})"
   ]
  },
  {
   "cell_type": "code",
   "execution_count": null,
   "id": "59bf7654",
   "metadata": {},
   "outputs": [],
   "source": [
    "sns.catplot(data = sra_wgs_country_metadata_tally, x='% of SRA WGS Records\\nLacking Country Metadata', y='Taxa', kind='bar')\n",
    "plt.xlim(0,100)"
   ]
  },
  {
   "cell_type": "markdown",
   "id": "9a8f56bd",
   "metadata": {},
   "source": [
    "## Burden Relative to Country"
   ]
  },
  {
   "cell_type": "code",
   "execution_count": null,
   "id": "8f838748",
   "metadata": {},
   "outputs": [],
   "source": [
    "country_sra = sra_metadata[sra_metadata['Sampling Country Metadata'] == 'Provided']\n",
    "\n",
    "sra_to_geo_loc = {'Bahamas': \"The Bahamas\",\n",
    "                 'Christmas Island': 'Australia',\n",
    "                 'French Guiana': \"France\",\n",
    "                 'Gaza Strip': 'Palestine',\n",
    "                 'Guadeloupe': \"France\",\n",
    "                 'Guinea-Bissau': 'Guinea Bissau',\n",
    "                 'Hong Kong': 'Hong Kong S.A.R.',\n",
    "                 'Martinique': \"France\",\n",
    "                 'Mayotte': \"France\",\n",
    "                 'Reunion': \"France\",\n",
    "                 'Serbia': \"Republic of Serbia\",\n",
    "                 'Tanzania': 'United Republic of Tanzania',\n",
    "                 'USA': 'United States of America',\n",
    "                 'Viet Nam': 'Vietnam',\n",
    "                 'West Bank': \"Palestine\"}\n",
    "\n",
    "# no longer exists\n",
    "country_sra = country_sra[country_sra['geo_loc_name_country_calc'] != 'Yugoslavia']\n",
    "\n",
    "country_sra['Country'] = country_sra['geo_loc_name_country_calc'].apply(lambda x: sra_to_geo_loc[x] if x in sra_to_geo_loc else x)\n",
    "genomes_per_country = country_sra.groupby(['Country', 'IHME_taxa']).size().reset_index(name='SRA Samples')"
   ]
  },
  {
   "cell_type": "code",
   "execution_count": null,
   "id": "0cc67f24",
   "metadata": {},
   "outputs": [],
   "source": [
    "dalys_per_100k = burden_df.rename(columns={'Location': 'Country', 'Pathogen': 'IHME_taxa',\n",
    "                                           \"Value\": \"DALYs per 100k\"})[['Country', 'IHME_taxa', 'DALYs per 100k']]\n",
    "dalys_per_100k = dalys_per_100k.set_index(['Country', 'IHME_taxa'])\n",
    "dalys_per_100k['SRA Samples'] = genomes_per_country.set_index(['Country', 'IHME_taxa'])['SRA Samples']\n",
    "dalys_per_100k['SRA Samples'] = dalys_per_100k['SRA Samples'].fillna(0)\n",
    "dalys_per_100k = dalys_per_100k.reset_index()\n",
    "dalys_per_100k['DALYs per 100k per Genome'] = dalys_per_100k['DALYs per 100k'] / dalys_per_100k['SRA Samples']"
   ]
  },
  {
   "cell_type": "code",
   "execution_count": null,
   "id": "3a08f347",
   "metadata": {},
   "outputs": [],
   "source": [
    "dalys_per_100k[dalys_per_100k['SRA Samples'] > 0].groupby('IHME_taxa')['Country'].nunique().sort_values().plot(kind='barh')"
   ]
  },
  {
   "cell_type": "code",
   "execution_count": null,
   "id": "b0f59822",
   "metadata": {},
   "outputs": [],
   "source": [
    "dalys_per_100k['DALYs per 100k per Genome'] = (dalys_per_100k['DALYs per 100k'] ) / (dalys_per_100k['SRA Samples'] + 1)"
   ]
  },
  {
   "cell_type": "code",
   "execution_count": null,
   "id": "f4d43dbc",
   "metadata": {},
   "outputs": [],
   "source": []
  }
 ],
 "metadata": {
  "kernelspec": {
   "display_name": "Python 3 (ipykernel)",
   "language": "python",
   "name": "python3"
  },
  "language_info": {
   "codemirror_mode": {
    "name": "ipython",
    "version": 3
   },
   "file_extension": ".py",
   "mimetype": "text/x-python",
   "name": "python",
   "nbconvert_exporter": "python",
   "pygments_lexer": "ipython3",
   "version": "3.11.3"
  }
 },
 "nbformat": 4,
 "nbformat_minor": 5
}
